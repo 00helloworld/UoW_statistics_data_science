{
 "cells": [
  {
   "cell_type": "markdown",
   "metadata": {},
   "source": [
    "# Import"
   ]
  },
  {
   "cell_type": "code",
   "execution_count": 10,
   "metadata": {},
   "outputs": [],
   "source": [
    "import numpy as np\n",
    "import matplotlib.pyplot as plt\n",
    "import scipy.stats as st\n",
    "import pandas as pd\n",
    "from IPython.display import display\n",
    "import math"
   ]
  },
  {
   "cell_type": "markdown",
   "metadata": {},
   "source": [
    "# Class"
   ]
  },
  {
   "cell_type": "code",
   "execution_count": 43,
   "metadata": {},
   "outputs": [],
   "source": [
    "class HypTest:\n",
    "    def __init__(self, data_path='cleaned_census_income.csv', variable='income', value='>50K'):\n",
    "        self.data = pd.read_csv(data_path)\n",
    "        self.variable = variable\n",
    "        self.value = value\n",
    "\n",
    "    def proportion(self):\n",
    "        # Calculate proportion\n",
    "        self.n = len(self.data)\n",
    "        proportion_n = len(self.data[(self.data.workclass =='Private') & (self.data[self.variable]==self.value)])\n",
    "        self.p_hat = proportion_n / self.n\n",
    "        print(f\"Estimated proportion of (workclass=='Private') & ({self.variable}=='{self.value}') is {self.p_hat}\")\n",
    "        print(self.n)\n",
    "\n",
    "    def CI(self):\n",
    "        # Calculate confidence interval\n",
    "        m = 2*math.sqrt(self.p_hat * (1-self.p_hat) / self.n)  # Margin Error\n",
    "        print('Margin Error is: ', m)\n",
    "        print(f'Confidence Interval is ({self.p_hat-m}, {self.p_hat+m})')\n",
    "\n",
    "    def hypothesis_test(self, p_0):\n",
    "        H_0 = f'H_0: p = {p_0}'\n",
    "        H_a = f'H_a: p > {p_0}'\n",
    "        print(H_0)\n",
    "        print(H_a)\n",
    "\n",
    "        z = (self.p_hat-p_0)/math.sqrt(p_0*(1-p_0)/self.n)\n",
    "        P_z_right = 1 - st.norm.cdf(z)\n",
    "\n",
    "        print(f'z score is {z}')\n",
    "\n",
    "        if P_z_right < 0.05:\n",
    "            print(f'p-value is {P_z_right}, We have 0.95 confidence to reject {H_0}')\n",
    "        else:\n",
    "            print(f\"p-value is {P_z_right}, We don't have enough evidence to reject {H_0}\")"
   ]
  },
  {
   "cell_type": "markdown",
   "metadata": {},
   "source": [
    "# 3）"
   ]
  },
  {
   "cell_type": "code",
   "execution_count": 44,
   "metadata": {},
   "outputs": [
    {
     "name": "stdout",
     "output_type": "stream",
     "text": [
      "Estimated proportion of (workclass=='Private') & (income=='>50K') is 0.16166036734964526\n",
      "30162\n",
      "Margin Error is:  0.00423947137768775\n",
      "Confidence Interval is (0.15742089597195752, 0.165899838727333)\n",
      "H_0: p = 0.25\n",
      "H_a: p > 0.25\n",
      "z score is -35.43113141080841\n",
      "p-value is 1.0, We don't have enough evidence to reject H_0: p = 0.25\n"
     ]
    }
   ],
   "source": [
    "test_1 = HypTest(variable='income', value='>50K')\n",
    "test_1.proportion()\n",
    "test_1.CI()\n",
    "test_1.hypothesis_test(p_0=0.25)"
   ]
  },
  {
   "cell_type": "markdown",
   "metadata": {},
   "source": [
    "# 4）"
   ]
  },
  {
   "cell_type": "code",
   "execution_count": 45,
   "metadata": {},
   "outputs": [
    {
     "name": "stdout",
     "output_type": "stream",
     "text": [
      "Estimated proportion of (workclass=='Private') & (education=='Bachelors') is 0.11454810688946357\n",
      "30162\n",
      "Margin Error is:  0.0036675527697740714\n",
      "Confidence Interval is (0.1108805541196895, 0.11821565965923764)\n",
      "H_0: p = 0.05\n",
      "H_a: p > 0.05\n",
      "z score is 51.43595083168901\n",
      "p-value is 0.0, We have 0.95 confidence to reject H_0: p = 0.05\n"
     ]
    }
   ],
   "source": [
    "test_2 = HypTest(variable='education', value='Bachelors')\n",
    "test_2.proportion()\n",
    "test_2.CI()\n",
    "test_2.hypothesis_test(p_0=0.05)"
   ]
  },
  {
   "cell_type": "code",
   "execution_count": null,
   "metadata": {},
   "outputs": [],
   "source": []
  }
 ],
 "metadata": {
  "kernelspec": {
   "display_name": "pace_ai_0",
   "language": "python",
   "name": "python3"
  },
  "language_info": {
   "codemirror_mode": {
    "name": "ipython",
    "version": 3
   },
   "file_extension": ".py",
   "mimetype": "text/x-python",
   "name": "python",
   "nbconvert_exporter": "python",
   "pygments_lexer": "ipython3",
   "version": "3.9.18"
  }
 },
 "nbformat": 4,
 "nbformat_minor": 2
}
